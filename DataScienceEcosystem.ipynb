{
 "cells": [
  {
   "cell_type": "markdown",
   "id": "656fb0b1",
   "metadata": {},
   "source": [
    "# Data Science Tools and Ecosystem"
   ]
  },
  {
   "cell_type": "markdown",
   "id": "fa6851ca",
   "metadata": {},
   "source": [
    "## Author\n",
    "Zla Smo"
   ]
  },
  {
   "cell_type": "markdown",
   "id": "4952bc45",
   "metadata": {},
   "source": [
    "In this notebook, Data Science Tools and Ecosystem are summarized."
   ]
  },
  {
   "cell_type": "markdown",
   "id": "f61b3d85",
   "metadata": {},
   "source": [
    "**Objectives:**\n",
    "    - popular languages for Data Science\n",
    "    - common libraries (Python and R) used in Data Science\n",
    "    - Data Science tools"
   ]
  },
  {
   "cell_type": "markdown",
   "id": "22e9f5ff",
   "metadata": {},
   "source": [
    "Some of the popular languages that Data Scientists use are:\n",
    "    1. R\n",
    "    2. Python\n",
    "    3. SQL"
   ]
  },
  {
   "cell_type": "markdown",
   "id": "d99e2474",
   "metadata": {},
   "source": [
    "Some of the commonly used libraries used by Data Scientists include:\n",
    "    1. Keras\n",
    "    2. TensorFlow\n",
    "    3. Caret"
   ]
  },
  {
   "cell_type": "markdown",
   "id": "2377e645",
   "metadata": {},
   "source": [
    "|*Data Science Tools*|\n",
    "|ApacheSpark|\n",
    "|RStudio|\n",
    "|JupyterNotebook|"
   ]
  },
  {
   "cell_type": "markdown",
   "id": "95400000",
   "metadata": {},
   "source": [
    "### Below are a few examples of evaluating arithmetic expressions in Python"
   ]
  },
  {
   "cell_type": "code",
   "execution_count": 7,
   "id": "fb228c3a",
   "metadata": {},
   "outputs": [
    {
     "data": {
      "text/plain": [
       "17"
      ]
     },
     "execution_count": 7,
     "metadata": {},
     "output_type": "execute_result"
    }
   ],
   "source": [
    "#This a simple arithmetic expression to mutiply then add integers\n",
    "(3*4)+5"
   ]
  },
  {
   "cell_type": "code",
   "execution_count": 8,
   "id": "b3142f3c",
   "metadata": {},
   "outputs": [
    {
     "data": {
      "text/plain": [
       "3.3333333333333335"
      ]
     },
     "execution_count": 8,
     "metadata": {},
     "output_type": "execute_result"
    }
   ],
   "source": [
    "#This will convert 200 minutes to hours by diving by 60\n",
    "200/60"
   ]
  }
 ],
 "metadata": {
  "kernelspec": {
   "display_name": "Python [conda env:my-rdkit-env] *",
   "language": "python",
   "name": "conda-env-my-rdkit-env-py"
  },
  "language_info": {
   "codemirror_mode": {
    "name": "ipython",
    "version": 3
   },
   "file_extension": ".py",
   "mimetype": "text/x-python",
   "name": "python",
   "nbconvert_exporter": "python",
   "pygments_lexer": "ipython3",
   "version": "3.6.15"
  }
 },
 "nbformat": 4,
 "nbformat_minor": 5
}
